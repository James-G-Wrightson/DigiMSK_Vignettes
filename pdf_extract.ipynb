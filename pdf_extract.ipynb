{
  "nbformat": 4,
  "nbformat_minor": 0,
  "metadata": {
    "colab": {
      "provenance": [],
      "authorship_tag": "ABX9TyNwZroaf9AQk/uMQ5gU5js7"
    },
    "kernelspec": {
      "name": "python3",
      "display_name": "Python 3"
    },
    "language_info": {
      "name": "python"
    }
  },
  "cells": [
    {
      "cell_type": "markdown",
      "source": [
        "# Libraries"
      ],
      "metadata": {
        "id": "pVIuTghQVWmu"
      }
    },
    {
      "cell_type": "code",
      "execution_count": null,
      "metadata": {
        "id": "Vyy7UKj_esix"
      },
      "outputs": [],
      "source": [
        "#pip install pandas"
      ]
    },
    {
      "cell_type": "code",
      "source": [
        "#pip install PyPDF2"
      ],
      "metadata": {
        "id": "Z1lsjcFae2mQ"
      },
      "execution_count": null,
      "outputs": []
    },
    {
      "cell_type": "code",
      "source": [
        "#pip install pdfplumber"
      ],
      "metadata": {
        "id": "-VXORv9lgQJC"
      },
      "execution_count": null,
      "outputs": []
    },
    {
      "cell_type": "code",
      "source": [
        "#pip install Pillow"
      ],
      "metadata": {
        "id": "9-GetJjYVhu1"
      },
      "execution_count": null,
      "outputs": []
    },
    {
      "cell_type": "markdown",
      "source": [
        "# Extract Text"
      ],
      "metadata": {
        "id": "PzYvXUsNfxze"
      }
    },
    {
      "cell_type": "code",
      "source": [
        "import os\n",
        "import pandas as pd\n",
        "import PyPDF2\n",
        "import re\n",
        "\n",
        "def pdf_extract(folder):\n",
        "    data = []\n",
        "    for filename in os.listdir(folder):\n",
        "        if filename.endswith(\".pdf\"):\n",
        "            file_path = os.path.join(folder, filename)\n",
        "            with open(file_path, 'rb') as file:\n",
        "                pdf_reader = PyPDF2.PdfReader(file)\n",
        "                extracted_text = ''.join(page.extract_text() or '' for page in pdf_reader.pages)\n",
        "                extracted_text = re.sub(r'\\s+', ' ', extracted_text).strip()  # Normalize whitespace\n",
        "\n",
        "                # Patterns to remove\n",
        "                patterns = [\n",
        "                    r'journal of orthopaedic & sports physical therapy',\n",
        "                    r'\\b(volume|number)\\s+\\d+',\n",
        "                    r'\\b(january|february|march|april|may|june|july|august|september|october|november|december)\\s+\\d{4}',\n",
        "                    r'\\|',\n",
        "                    r'\\[\\s*musculoskeletal imaging\\s*\\]',\n",
        "                    r'^\\s*\\d+\\s+'\n",
        "                ]\n",
        "                # Apply patterns\n",
        "                for pattern in patterns:\n",
        "                    extracted_text = re.sub(pattern, '', extracted_text, flags=re.IGNORECASE)\n",
        "\n",
        "                # Remove specific characters or patterns\n",
        "                extracted_text = extracted_text.replace(\" - \", \"\")\n",
        "\n",
        "                # Append result to list\n",
        "                data.append({\"file_name\": filename, \"extracted_text\": extracted_text})\n",
        "\n",
        "    # Create DataFrame from list\n",
        "    return pd.DataFrame(data)\n"
      ],
      "metadata": {
        "id": "d5UKYwDwVJws"
      },
      "execution_count": 130,
      "outputs": []
    },
    {
      "cell_type": "code",
      "source": [
        "# Example usage\n",
        "folder_path = \"sample_data\"\n",
        "text_df = pdf_extract(folder_path)\n",
        "print(text_df)"
      ],
      "metadata": {
        "colab": {
          "base_uri": "https://localhost:8080/"
        },
        "id": "lQGb5xXqf7AU",
        "outputId": "c416db49-b1ee-4c9c-c793-48048f7dbf80"
      },
      "execution_count": 131,
      "outputs": [
        {
          "output_type": "stream",
          "name": "stdout",
          "text": [
            "                    file_name  \\\n",
            "0          mcinerney_2107.pdf   \n",
            "1             kosnik_2018.pdf   \n",
            "2   cpa_valuept_erdept-en.pdf   \n",
            "3             beneck_2017.pdf   \n",
            "4          hernandez_2016.pdf   \n",
            "5            bittner_2018.pdf   \n",
            "6              carow_2013.pdf   \n",
            "7           arumugam_2018.pdf   \n",
            "8                cho_2013.pdf   \n",
            "9            halfpap_2016.pdf   \n",
            "10            callan_2016.pdf   \n",
            "11           gilotra_2016.pdf   \n",
            "12           glensek_2013.pdf   \n",
            "\n",
            "                                       extracted_text  \n",
            "0   A 57-year-old man with insidious onset of prog...  \n",
            "1   A 13-year-old male gymnast presented via direc...  \n",
            "2   Physiotherapists working in the emergency depa...  \n",
            "3   A 57-year-old woman was recruited for a resear...  \n",
            "4   the patient was a 20-year-old Division I femal...  \n",
            "5   A 69-year-old man was referred to physical the...  \n",
            "6   The patient was a 25-year-old man who was curr...  \n",
            "7   A 36-year-old man with insidious onset of post...  \n",
            "8   The patient was a 21-year-old man who was serv...  \n",
            "9   A 51-year-old man presented to a direct-access...  \n",
            "10  A 44-year-old woman was referred to physical t...  \n",
            "11  The patient was a 21-year-old collegiate runni...  \n",
            "12  The patient was a 19-year-old male cadet at a ...  \n"
          ]
        }
      ]
    },
    {
      "cell_type": "code",
      "source": [
        "print(text_df.loc[0, 'extracted_text'])"
      ],
      "metadata": {
        "colab": {
          "base_uri": "https://localhost:8080/"
        },
        "id": "Vh-6MnNxksX6",
        "outputId": "c409b093-8e9d-412a-d045-30eed742b785"
      },
      "execution_count": 132,
      "outputs": [
        {
          "output_type": "stream",
          "name": "stdout",
          "text": [
            "A 57-year-old man with insidious onset of progressive bilateral upper extremity weakness over approximately 1 year was referred to physical therapy by his primary care physician. Visual assessment of the patient revealed atrophy throughout the bilateral upper extremities, with an inability to reach the arms above shoulder height. Neurological exam findings revealed intact sensation, reflexes, cranial nerve function, coordination, and lower extremity strength. Babinski sign, clonus, and Hoffmann’s reflex were negative. The patient reported an absence of pain and demonstrated 2+/5 strength in the bilateral C5-T1 myotomes. Due to progressive bilateral weakness, the physical therapist referred the patient back to his primary care physician with a request for cervical magnetic resonance imaging (MRI) and neurology consultation. Differential diagnosis included cervical myelopathy. The American College of Radiology Appropriateness Criteria recommend MRI in cases of myelopathy with slow, progressive symptoms. Upon return to his primary care physician, cervical radiographs were performed and neurology referral was placed. Cervical radiographs demonstrated multilevel degenerative changes ( FIGURE 1 ). Because the first available neurology appointment was not for 5 months, the physical therapist requested an expedited consultation. During the expedited neurology consultation, cervical spine MRI was SEAN MCINERNEY, PT , DPT , OCS, College of Applied Health Sciences, University of Illinois at Chicago, Chicago, IL. AARON KEIL, PT , DPT , OCS, College of Applied Health Sciences, University of Illinois at Chicago, Chicago, IL. JIN SUH KIM, MD, MS, Department of Radiology, College of Medicine, University of Illinois at Chicago, Chicago, IL.Cervical Myelopathy Presenting as Bilateral Upper Extremity Weakness performed, 3 months after the initial request from the physical therapist. Cervical spine MRI revealed compressive myelopathy at the C4-5 and C6-7 spinal segments, significant spinal canal stenosis, and severe spondylosis ( FIGURES 2 and 3). One week later, the patient underwent C4-C7 laminectomy, C3-C7 anterior cervical disc fusion, and C3-T2 posterior instrumentation. Following surgery, the patient was followed in outpatient physical therapy for 2 months without worsening of neurological status, but with no significant improvement in strength or use of upper extremities, perhaps due to the chronicity of the myelopathy.1 t J Orthop Sports Phys Ther 2017;47(9):691. doi:10.2519/jospt.2017.7287 FIGURE 1. Lateral view of the cervical spine radiograph. FIGURE 2. Sagittal, T2-weighted magnetic resonance images demonstrate a disc osteophyte complex, uncinate hypertrophy, marked ligamentum flavum hypertrophy, and facet arthropathy, with associated severe stenosis at the C6-7 level.FIGURE 3. Axial, T2-weighted magnetic resonance images demonstrate a disc osteophyte complex, uncinate hypertrophy, marked ligamentum flavum hypertrophy, and facet arthropathy, with associated severe stenosis at the C6-7 level. Reference 1. T etreault L, Kopiar B, Cote P , Arnold P , Fehlings MG. A clinical prediction rule for functional outcomes in patients undergoing surgery for degenerative cervical myelopathy. J Bone Joint Surg Am. 2015;97:2038-2046. http:// doi.org/10.2106/ JBJS.O.00189 ® Downloaded from www.jospt.org at UBC Library Central Serials on March 4, 2024. For personal use only. No other uses without permission. Copyright © 2017 ®. All rights reserved.\n"
          ]
        }
      ]
    },
    {
      "cell_type": "markdown",
      "source": [
        "# Extract images"
      ],
      "metadata": {
        "id": "OLpUX7oJsGu9"
      }
    },
    {
      "cell_type": "code",
      "source": [
        "import os\n",
        "import base64\n",
        "import pandas as pd\n",
        "import pdfplumber\n",
        "import io\n",
        "from PIL import Image\n",
        "\n",
        "def extract_images(folder):\n",
        "    # Initialize a list to store dictionaries for eventual DataFrame creation\n",
        "    data_list = []\n",
        "\n",
        "    # Iterate over every file in the specified folder\n",
        "    for filename in os.listdir(folder):\n",
        "        if filename.lower().endswith(\".pdf\"):\n",
        "            file_path = os.path.join(folder, filename)\n",
        "\n",
        "            # Initialize a dictionary to hold the base64 encoded images\n",
        "            images_dict = {}\n",
        "            image_counter = 1\n",
        "\n",
        "            # Open the PDF file\n",
        "            with pdfplumber.open(file_path) as pdf:\n",
        "                # Extract images from each page\n",
        "                for page in pdf.pages:\n",
        "                    if 'images' in page.objects:\n",
        "                        for img_dict in page.images:\n",
        "                            # Get the image object using its object ID within the PDF\n",
        "                            im_obj = pdf.extracted_objects[img_dict['object_id']]\n",
        "                            # Access the raw image data\n",
        "                            if im_obj['type'] == 'image':\n",
        "                                # Convert the raw image data into a PIL Image\n",
        "                                im = Image.open(io.BytesIO(im_obj['data']))\n",
        "                                # Convert the image to bytes and then encode in base64\n",
        "                                buffered = io.BytesIO()\n",
        "                                im.save(buffered, format=\"JPEG\")\n",
        "                                img_str = base64.b64encode(buffered.getvalue()).decode('utf-8')\n",
        "                                # Store the image in dictionary with a unique key\n",
        "                                images_dict[f'image_{image_counter}'] = img_str\n",
        "                                image_counter += 1\n",
        "\n",
        "            # Append the data dictionary to the list\n",
        "            data_list.append({\n",
        "                'file_name': filename,\n",
        "                'extracted_images': images_dict\n",
        "            })\n",
        "\n",
        "    # Create a DataFrame from the list of dictionaries\n",
        "    df = pd.DataFrame(data_list)\n",
        "\n",
        "    # Return the DataFrame\n",
        "    return df"
      ],
      "metadata": {
        "id": "ubKLbzW9GWo3"
      },
      "execution_count": 85,
      "outputs": []
    },
    {
      "cell_type": "code",
      "source": [
        "image_df = extract_images('sample_data')"
      ],
      "metadata": {
        "id": "7MjGH_U4Fs6s"
      },
      "execution_count": 86,
      "outputs": []
    }
  ]
}