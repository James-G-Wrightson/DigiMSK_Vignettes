{
  "nbformat": 4,
  "nbformat_minor": 0,
  "metadata": {
    "colab": {
      "provenance": [],
      "authorship_tag": "ABX9TyM+ElrkyWzJlmNIiv8MfVri"
    },
    "kernelspec": {
      "name": "python3",
      "display_name": "Python 3"
    },
    "language_info": {
      "name": "python"
    }
  },
  "cells": [
    {
      "cell_type": "markdown",
      "source": [
        "# Libraries"
      ],
      "metadata": {
        "id": "pVIuTghQVWmu"
      }
    },
    {
      "cell_type": "code",
      "execution_count": null,
      "metadata": {
        "id": "Vyy7UKj_esix"
      },
      "outputs": [],
      "source": [
        "#pip install pandas"
      ]
    },
    {
      "cell_type": "code",
      "source": [
        "#pip install PyPDF2"
      ],
      "metadata": {
        "id": "Z1lsjcFae2mQ"
      },
      "execution_count": null,
      "outputs": []
    },
    {
      "cell_type": "code",
      "source": [
        "#pip install pdfplumber"
      ],
      "metadata": {
        "id": "-VXORv9lgQJC"
      },
      "execution_count": null,
      "outputs": []
    },
    {
      "cell_type": "code",
      "source": [
        "#pip install Pillow"
      ],
      "metadata": {
        "id": "9-GetJjYVhu1"
      },
      "execution_count": null,
      "outputs": []
    },
    {
      "cell_type": "markdown",
      "source": [
        "# Extract Text"
      ],
      "metadata": {
        "id": "PzYvXUsNfxze"
      }
    },
    {
      "cell_type": "code",
      "source": [
        "import os\n",
        "import pandas as pd\n",
        "import PyPDF2\n",
        "import re\n",
        "\n",
        "def pdf_extract(folder):\n",
        "    data = []\n",
        "    for filename in os.listdir(folder):\n",
        "        if filename.endswith(\".pdf\"):\n",
        "            file_path = os.path.join(folder, filename)\n",
        "            with open(file_path, 'rb') as file:\n",
        "                pdf_reader = PyPDF2.PdfReader(file)\n",
        "                extracted_text = ''.join(page.extract_text() or '' for page in pdf_reader.pages)\n",
        "                extracted_text = re.sub(r'\\s+', ' ', extracted_text).strip()  # Normalize whitespace\n",
        "\n",
        "                # Patterns to remove\n",
        "                patterns = [\n",
        "                    r'journal of orthopaedic & sports physical therapy',\n",
        "                    r'\\b(volume|number)\\s+\\d+',\n",
        "                    r'\\b(january|february|march|april|may|june|july|august|september|october|november|december)\\s+\\d{4}',\n",
        "                    r'\\|',\n",
        "                    r'\\[\\s*musculoskeletal imaging\\s*\\]',\n",
        "                    r'^\\s*\\d+\\s+'\n",
        "                ]\n",
        "                # Apply patterns\n",
        "                for pattern in patterns:\n",
        "                    extracted_text = re.sub(pattern, '', extracted_text, flags=re.IGNORECASE)\n",
        "\n",
        "                # Remove specific characters or patterns\n",
        "                extracted_text = extracted_text.replace(\" - \", \"\")\n",
        "\n",
        "                # Append result to list\n",
        "                data.append({\"file_name\": filename, \"extracted_text\": extracted_text})\n",
        "\n",
        "    # Create DataFrame from list\n",
        "    return pd.DataFrame(data)\n"
      ],
      "metadata": {
        "id": "d5UKYwDwVJws"
      },
      "execution_count": 130,
      "outputs": []
    },
    {
      "cell_type": "code",
      "source": [
        "# Example usage\n",
        "# folder_path = \"sample_data\"\n",
        "# text_df = pdf_extract(folder_path)\n",
        "# print(text_df.loc[0, 'extracted_text'])"
      ],
      "metadata": {
        "id": "lQGb5xXqf7AU"
      },
      "execution_count": null,
      "outputs": []
    },
    {
      "cell_type": "code",
      "source": [],
      "metadata": {
        "id": "Vh-6MnNxksX6"
      },
      "execution_count": null,
      "outputs": []
    },
    {
      "cell_type": "markdown",
      "source": [
        "# Extract images"
      ],
      "metadata": {
        "id": "OLpUX7oJsGu9"
      }
    },
    {
      "cell_type": "code",
      "source": [
        "import os\n",
        "import base64\n",
        "import pandas as pd\n",
        "import pdfplumber\n",
        "import io\n",
        "from PIL import Image\n",
        "\n",
        "def extract_images(folder):\n",
        "    # Initialize a list to store dictionaries for eventual DataFrame creation\n",
        "    data_list = []\n",
        "\n",
        "    # Iterate over every file in the specified folder\n",
        "    for filename in os.listdir(folder):\n",
        "        if filename.lower().endswith(\".pdf\"):\n",
        "            file_path = os.path.join(folder, filename)\n",
        "\n",
        "            # Initialize a dictionary to hold the base64 encoded images\n",
        "            images_dict = {}\n",
        "            image_counter = 1\n",
        "\n",
        "            # Open the PDF file\n",
        "            with pdfplumber.open(file_path) as pdf:\n",
        "                # Extract images from each page\n",
        "                for page in pdf.pages:\n",
        "                    if 'images' in page.objects:\n",
        "                        for img_dict in page.images:\n",
        "                            # Get the image object using its object ID within the PDF\n",
        "                            im_obj = pdf.extracted_objects[img_dict['object_id']]\n",
        "                            # Access the raw image data\n",
        "                            if im_obj['type'] == 'image':\n",
        "                                # Convert the raw image data into a PIL Image\n",
        "                                im = Image.open(io.BytesIO(im_obj['data']))\n",
        "                                # Convert the image to bytes and then encode in base64\n",
        "                                buffered = io.BytesIO()\n",
        "                                im.save(buffered, format=\"JPEG\")\n",
        "                                img_str = base64.b64encode(buffered.getvalue()).decode('utf-8')\n",
        "                                # Store the image in dictionary with a unique key\n",
        "                                images_dict[f'image_{image_counter}'] = img_str\n",
        "                                image_counter += 1\n",
        "\n",
        "            # Append the data dictionary to the list\n",
        "            data_list.append({\n",
        "                'file_name': filename,\n",
        "                'extracted_images': images_dict\n",
        "            })\n",
        "\n",
        "    # Create a DataFrame from the list of dictionaries\n",
        "    df = pd.DataFrame(data_list)\n",
        "\n",
        "    # Return the DataFrame\n",
        "    return df"
      ],
      "metadata": {
        "id": "ubKLbzW9GWo3"
      },
      "execution_count": 85,
      "outputs": []
    },
    {
      "cell_type": "code",
      "source": [
        "# Example use\n",
        "# image_df = extract_images('sample_data')"
      ],
      "metadata": {
        "id": "7MjGH_U4Fs6s"
      },
      "execution_count": 86,
      "outputs": []
    }
  ]
}